{
 "cells": [
  {
   "cell_type": "markdown",
   "id": "5570bd50-d0ce-4263-b3f6-9e816dc933fa",
   "metadata": {},
   "source": [
    "# Feature Importance"
   ]
  },
  {
   "cell_type": "markdown",
   "id": "6bb3bbbc-bffb-4cec-8976-38aff152aba2",
   "metadata": {},
   "source": [
    "Given the nature of our dataset and the problem we are trying to solve, there are no features to evaluate. With more time we could potentially explore the impact of POS and NER by placing them into separate columns."
   ]
  }
 ],
 "metadata": {
  "kernelspec": {
   "display_name": "Python 3 (ipykernel)",
   "language": "python",
   "name": "python3"
  },
  "language_info": {
   "codemirror_mode": {
    "name": "ipython",
    "version": 3
   },
   "file_extension": ".py",
   "mimetype": "text/x-python",
   "name": "python",
   "nbconvert_exporter": "python",
   "pygments_lexer": "ipython3",
   "version": "3.11.7"
  }
 },
 "nbformat": 4,
 "nbformat_minor": 5
}
