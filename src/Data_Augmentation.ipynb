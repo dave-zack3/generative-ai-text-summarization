{
 "cells": [
  {
   "cell_type": "markdown",
   "id": "4fefcb4e-6d6b-4fa9-a6f2-3d765d7702bd",
   "metadata": {},
   "source": [
    "# Data Augmentation Script"
   ]
  },
  {
   "cell_type": "code",
   "execution_count": 1,
   "id": "c5345941-a8e0-409e-9059-3afd8ed6a765",
   "metadata": {},
   "outputs": [],
   "source": [
    "import pandas as pd\n",
    "from nlpaug.augmenter.word import SynonymAug, RandomWordAug\n",
    "import nltk"
   ]
  },
  {
   "cell_type": "code",
   "execution_count": 2,
   "id": "fec071f0-97eb-4166-82b8-a40b9bc872e4",
   "metadata": {},
   "outputs": [],
   "source": [
    "data_path = '../data/SQuAD_train_DF.h5'"
   ]
  },
  {
   "cell_type": "code",
   "execution_count": 3,
   "id": "7b5581b4-ef1a-40df-8ab0-628440a90374",
   "metadata": {},
   "outputs": [],
   "source": [
    "df = pd.read_hdf(data_path, 'df_train')"
   ]
  },
  {
   "cell_type": "code",
   "execution_count": 4,
   "id": "dfe1d2fd-589c-4361-9f85-aea866b4cd50",
   "metadata": {},
   "outputs": [
    {
     "data": {
      "text/html": [
       "<div>\n",
       "<style scoped>\n",
       "    .dataframe tbody tr th:only-of-type {\n",
       "        vertical-align: middle;\n",
       "    }\n",
       "\n",
       "    .dataframe tbody tr th {\n",
       "        vertical-align: top;\n",
       "    }\n",
       "\n",
       "    .dataframe thead th {\n",
       "        text-align: right;\n",
       "    }\n",
       "</style>\n",
       "<table border=\"1\" class=\"dataframe\">\n",
       "  <thead>\n",
       "    <tr style=\"text-align: right;\">\n",
       "      <th></th>\n",
       "      <th>question</th>\n",
       "      <th>context</th>\n",
       "      <th>text</th>\n",
       "    </tr>\n",
       "  </thead>\n",
       "  <tbody>\n",
       "    <tr>\n",
       "      <th>14981</th>\n",
       "      <td>How many students are in Boston Public schools?</td>\n",
       "      <td>The Boston Public Schools enrolls 57,000 stude...</td>\n",
       "      <td>57,000</td>\n",
       "    </tr>\n",
       "    <tr>\n",
       "      <th>76522</th>\n",
       "      <td>What was the name of the deal in which Arizona...</td>\n",
       "      <td>Arizona, south of the Gila River was legally b...</td>\n",
       "      <td>Gadsden Purchase</td>\n",
       "    </tr>\n",
       "    <tr>\n",
       "      <th>60357</th>\n",
       "      <td>What can an exhibition game raise money for?</td>\n",
       "      <td>An exhibition game may also be used to settle ...</td>\n",
       "      <td>charities</td>\n",
       "    </tr>\n",
       "    <tr>\n",
       "      <th>86267</th>\n",
       "      <td>Who wrote 'City Boy: The Adventures of Herbie ...</td>\n",
       "      <td>The Bronx has been featured significantly in f...</td>\n",
       "      <td>Herman Wouk</td>\n",
       "    </tr>\n",
       "    <tr>\n",
       "      <th>24617</th>\n",
       "      <td>The New Delhi Municipal Government oversees wh...</td>\n",
       "      <td>New Delhi is governed through a municipal gove...</td>\n",
       "      <td>New Delhi</td>\n",
       "    </tr>\n",
       "  </tbody>\n",
       "</table>\n",
       "</div>"
      ],
      "text/plain": [
       "                                                question  \\\n",
       "14981    How many students are in Boston Public schools?   \n",
       "76522  What was the name of the deal in which Arizona...   \n",
       "60357       What can an exhibition game raise money for?   \n",
       "86267  Who wrote 'City Boy: The Adventures of Herbie ...   \n",
       "24617  The New Delhi Municipal Government oversees wh...   \n",
       "\n",
       "                                                 context              text  \n",
       "14981  The Boston Public Schools enrolls 57,000 stude...            57,000  \n",
       "76522  Arizona, south of the Gila River was legally b...  Gadsden Purchase  \n",
       "60357  An exhibition game may also be used to settle ...         charities  \n",
       "86267  The Bronx has been featured significantly in f...       Herman Wouk  \n",
       "24617  New Delhi is governed through a municipal gove...         New Delhi  "
      ]
     },
     "execution_count": 4,
     "metadata": {},
     "output_type": "execute_result"
    }
   ],
   "source": [
    "df.head()"
   ]
  },
  {
   "cell_type": "markdown",
   "id": "e172b6d9-6399-420b-ab71-9cbdfd3f1d07",
   "metadata": {},
   "source": [
    "## Only augment 10% of the data for compute"
   ]
  },
  {
   "cell_type": "code",
   "execution_count": 5,
   "id": "382aeb1f-cb32-4f54-8537-2d3f57176dd9",
   "metadata": {},
   "outputs": [],
   "source": [
    "df_augment = df.sample(frac=0.1)"
   ]
  },
  {
   "cell_type": "markdown",
   "id": "59979923-25b0-4f60-8d2a-3e93fec1082d",
   "metadata": {},
   "source": [
    "## Define synonym and random word augmentation functions"
   ]
  },
  {
   "cell_type": "code",
   "execution_count": 6,
   "id": "6448a79c-f80f-49ab-bbf9-3b0904755922",
   "metadata": {},
   "outputs": [],
   "source": [
    "def synonym_augmentation(text):\n",
    "    \"\"\"\n",
    "    This function augments a list of text by using synonyms\n",
    "     \n",
    "    Args:\n",
    "        text_list: A list containing the text to process.\n",
    "    \n",
    "    Returns:\n",
    "        A list of augmented text.\n",
    "    \"\"\"       \n",
    "    aug = SynonymAug()\n",
    "    augmented_text = aug.augment(text)\n",
    "    return augmented_text"
   ]
  },
  {
   "cell_type": "code",
   "execution_count": 7,
   "id": "427e1601-18a7-499f-a087-0383bb183c1c",
   "metadata": {},
   "outputs": [],
   "source": [
    "def random_word_augmentation(text):\n",
    "    \"\"\"\n",
    "    This function augments a list of text by using synonyms\n",
    "     \n",
    "    Args:\n",
    "        text_list: A string containing the text to process.\n",
    "    \n",
    "    Returns:\n",
    "        A list of augmented text.\n",
    "    \"\"\" \n",
    "    aug = RandomWordAug()\n",
    "    augmented_text = aug.augment(text)\n",
    "    return augmented_text"
   ]
  },
  {
   "cell_type": "markdown",
   "id": "1161b40f-798c-4c0b-9eef-7b838e2128ac",
   "metadata": {},
   "source": [
    "## Create the synonym and random dataframes for storage of the augmented data"
   ]
  },
  {
   "cell_type": "code",
   "execution_count": 8,
   "id": "323b68e1-dad5-4bd2-9989-f8d0d3f31852",
   "metadata": {},
   "outputs": [],
   "source": [
    "df_synonym = pd.DataFrame(columns=['context', 'question', 'text'])"
   ]
  },
  {
   "cell_type": "code",
   "execution_count": 9,
   "id": "85328046-c923-4e61-87d1-8e27c6565f0b",
   "metadata": {},
   "outputs": [],
   "source": [
    "df_synonym['context'] = df_augment['context'].apply(synonym_augmentation)\n",
    "df_synonym['question'] = df_augment['question'].apply(synonym_augmentation)\n",
    "df_synonym['text'] = df_augment['text'].apply(synonym_augmentation)"
   ]
  },
  {
   "cell_type": "code",
   "execution_count": 10,
   "id": "15c7651e-aefc-434b-86b3-7c26392a4b1b",
   "metadata": {},
   "outputs": [],
   "source": [
    "df_synonym['context'] = df_synonym['context'].apply(lambda x: x[0] if isinstance(x, list) else x)\n",
    "df_synonym['question'] = df_synonym['question'].apply(lambda x: x[0] if isinstance(x, list) else x)\n",
    "df_synonym['text'] = df_synonym['text'].apply(lambda x: x[0] if isinstance(x, list) else x)"
   ]
  },
  {
   "cell_type": "code",
   "execution_count": 11,
   "id": "887a5c5e-cf40-4b79-82ff-19318a4c0084",
   "metadata": {},
   "outputs": [
    {
     "data": {
      "text/html": [
       "<div>\n",
       "<style scoped>\n",
       "    .dataframe tbody tr th:only-of-type {\n",
       "        vertical-align: middle;\n",
       "    }\n",
       "\n",
       "    .dataframe tbody tr th {\n",
       "        vertical-align: top;\n",
       "    }\n",
       "\n",
       "    .dataframe thead th {\n",
       "        text-align: right;\n",
       "    }\n",
       "</style>\n",
       "<table border=\"1\" class=\"dataframe\">\n",
       "  <thead>\n",
       "    <tr style=\"text-align: right;\">\n",
       "      <th></th>\n",
       "      <th>context</th>\n",
       "      <th>question</th>\n",
       "      <th>text</th>\n",
       "    </tr>\n",
       "  </thead>\n",
       "  <tbody>\n",
       "    <tr>\n",
       "      <th>70052</th>\n",
       "      <td>Until recently, in most critical writing the p...</td>\n",
       "      <td>What get along Simon zelotes Reynolds describe...</td>\n",
       "      <td>the 1960s</td>\n",
       "    </tr>\n",
       "    <tr>\n",
       "      <th>84032</th>\n",
       "      <td>By the end of the regal period Rome had develo...</td>\n",
       "      <td>What gods were in the Capitoline ternary?</td>\n",
       "      <td>Jove, Juno and Minerva</td>\n",
       "    </tr>\n",
       "    <tr>\n",
       "      <th>75787</th>\n",
       "      <td>Although the city is not particularly noted fo...</td>\n",
       "      <td>What did Sir alec guinness Worldly concern Rec...</td>\n",
       "      <td>world ' s large movie studio</td>\n",
       "    </tr>\n",
       "    <tr>\n",
       "      <th>82019</th>\n",
       "      <td>Electroluminescence as a phenomenon was discov...</td>\n",
       "      <td>World health organization constitute the Sovie...</td>\n",
       "      <td>Oleg Losev</td>\n",
       "    </tr>\n",
       "    <tr>\n",
       "      <th>56926</th>\n",
       "      <td>The northern side of Miami includes Midtown, a...</td>\n",
       "      <td>What northerly Miami neighborhood be named for...</td>\n",
       "      <td>Small Haiti</td>\n",
       "    </tr>\n",
       "  </tbody>\n",
       "</table>\n",
       "</div>"
      ],
      "text/plain": [
       "                                                 context  \\\n",
       "70052  Until recently, in most critical writing the p...   \n",
       "84032  By the end of the regal period Rome had develo...   \n",
       "75787  Although the city is not particularly noted fo...   \n",
       "82019  Electroluminescence as a phenomenon was discov...   \n",
       "56926  The northern side of Miami includes Midtown, a...   \n",
       "\n",
       "                                                question  \\\n",
       "70052  What get along Simon zelotes Reynolds describe...   \n",
       "84032          What gods were in the Capitoline ternary?   \n",
       "75787  What did Sir alec guinness Worldly concern Rec...   \n",
       "82019  World health organization constitute the Sovie...   \n",
       "56926  What northerly Miami neighborhood be named for...   \n",
       "\n",
       "                               text  \n",
       "70052                     the 1960s  \n",
       "84032        Jove, Juno and Minerva  \n",
       "75787  world ' s large movie studio  \n",
       "82019                    Oleg Losev  \n",
       "56926                   Small Haiti  "
      ]
     },
     "execution_count": 11,
     "metadata": {},
     "output_type": "execute_result"
    }
   ],
   "source": [
    "df_synonym.head()"
   ]
  },
  {
   "cell_type": "code",
   "execution_count": 12,
   "id": "48e52e91-8f7d-48bd-93aa-b6cdb12c745e",
   "metadata": {},
   "outputs": [],
   "source": [
    "df_random = pd.DataFrame(columns=['context', 'question', 'text'])"
   ]
  },
  {
   "cell_type": "code",
   "execution_count": 13,
   "id": "f58fc918-acdd-4edd-a465-702e5daf3c1f",
   "metadata": {},
   "outputs": [],
   "source": [
    "df_random['context'] = df_augment['context'].apply(random_word_augmentation)\n",
    "df_random['question'] = df_augment['question'].apply(random_word_augmentation)\n",
    "df_random['text'] = df_augment['text'].apply(random_word_augmentation)"
   ]
  },
  {
   "cell_type": "code",
   "execution_count": 14,
   "id": "9b988ae7-3d3c-414b-bedc-300f9558ab6a",
   "metadata": {},
   "outputs": [],
   "source": [
    "df_random['context'] = df_random['context'].apply(lambda x: x[0] if isinstance(x, list) else x)\n",
    "df_random['question'] = df_random['question'].apply(lambda x: x[0] if isinstance(x, list) else x)\n",
    "df_random['text'] = df_random['text'].apply(lambda x: x[0] if isinstance(x, list) else x)"
   ]
  },
  {
   "cell_type": "code",
   "execution_count": 15,
   "id": "c497f5f2-9d41-4ac0-bcf3-2390cab6db82",
   "metadata": {
    "scrolled": true
   },
   "outputs": [
    {
     "data": {
      "text/html": [
       "<div>\n",
       "<style scoped>\n",
       "    .dataframe tbody tr th:only-of-type {\n",
       "        vertical-align: middle;\n",
       "    }\n",
       "\n",
       "    .dataframe tbody tr th {\n",
       "        vertical-align: top;\n",
       "    }\n",
       "\n",
       "    .dataframe thead th {\n",
       "        text-align: right;\n",
       "    }\n",
       "</style>\n",
       "<table border=\"1\" class=\"dataframe\">\n",
       "  <thead>\n",
       "    <tr style=\"text-align: right;\">\n",
       "      <th></th>\n",
       "      <th>context</th>\n",
       "      <th>question</th>\n",
       "      <th>text</th>\n",
       "    </tr>\n",
       "  </thead>\n",
       "  <tbody>\n",
       "    <tr>\n",
       "      <th>70052</th>\n",
       "      <td>Until recently, in most critical writing the p...</td>\n",
       "      <td>What did Simon the era post - as a for in of g...</td>\n",
       "      <td>the</td>\n",
       "    </tr>\n",
       "    <tr>\n",
       "      <th>84032</th>\n",
       "      <td>By the end of regal period Rome had developed ...</td>\n",
       "      <td>Gods were in Capitoline?</td>\n",
       "      <td>, and Minerva</td>\n",
       "    </tr>\n",
       "    <tr>\n",
       "      <th>75787</th>\n",
       "      <td>Although the is not particularly noted for and...</td>\n",
       "      <td>Did Guinness World of Ramoji Film was 20015?</td>\n",
       "      <td>' s largest film</td>\n",
       "    </tr>\n",
       "    <tr>\n",
       "      <th>82019</th>\n",
       "      <td>Electroluminescence as phenomenon was discover...</td>\n",
       "      <td>Who the Soviet created the LED?</td>\n",
       "      <td>Losev</td>\n",
       "    </tr>\n",
       "    <tr>\n",
       "      <th>56926</th>\n",
       "      <td>The northern side of Miami includes Midtown, a...</td>\n",
       "      <td>What northern neighborhood named a country?</td>\n",
       "      <td>Haiti</td>\n",
       "    </tr>\n",
       "  </tbody>\n",
       "</table>\n",
       "</div>"
      ],
      "text/plain": [
       "                                                 context  \\\n",
       "70052  Until recently, in most critical writing the p...   \n",
       "84032  By the end of regal period Rome had developed ...   \n",
       "75787  Although the is not particularly noted for and...   \n",
       "82019  Electroluminescence as phenomenon was discover...   \n",
       "56926  The northern side of Miami includes Midtown, a...   \n",
       "\n",
       "                                                question              text  \n",
       "70052  What did Simon the era post - as a for in of g...               the  \n",
       "84032                           Gods were in Capitoline?     , and Minerva  \n",
       "75787       Did Guinness World of Ramoji Film was 20015?  ' s largest film  \n",
       "82019                    Who the Soviet created the LED?             Losev  \n",
       "56926        What northern neighborhood named a country?             Haiti  "
      ]
     },
     "execution_count": 15,
     "metadata": {},
     "output_type": "execute_result"
    }
   ],
   "source": [
    "df_random.head()"
   ]
  },
  {
   "cell_type": "markdown",
   "id": "7e1b8166-695d-4b1d-8af7-5d25e045b217",
   "metadata": {},
   "source": [
    "## Add the synonym and random augmented data to the training dataframe and save"
   ]
  },
  {
   "cell_type": "code",
   "execution_count": 16,
   "id": "c8e28eef-8da3-4cc9-b917-1ca34c3dade9",
   "metadata": {},
   "outputs": [],
   "source": [
    "df = pd.concat([df, df_synonym, df_random], ignore_index=True)"
   ]
  },
  {
   "cell_type": "code",
   "execution_count": 17,
   "id": "399089eb-bce1-45ba-b95d-52691ba492b7",
   "metadata": {},
   "outputs": [],
   "source": [
    "df.to_hdf('../data/SQuAD_train_augmented_DF.h5', key = 'df_train')"
   ]
  }
 ],
 "metadata": {
  "kernelspec": {
   "display_name": "Python 3 (ipykernel)",
   "language": "python",
   "name": "python3"
  },
  "language_info": {
   "codemirror_mode": {
    "name": "ipython",
    "version": 3
   },
   "file_extension": ".py",
   "mimetype": "text/x-python",
   "name": "python",
   "nbconvert_exporter": "python",
   "pygments_lexer": "ipython3",
   "version": "3.11.7"
  }
 },
 "nbformat": 4,
 "nbformat_minor": 5
}
