{
 "cells": [
  {
   "cell_type": "code",
   "execution_count": 1,
   "id": "7ca43252-2bcc-4742-b073-83e3bb4e7e56",
   "metadata": {},
   "outputs": [],
   "source": [
    "import pandas as pd\n",
    "from nlpaug.augmenter.word import SynonymAug, RandomWordAug\n",
    "import nltk"
   ]
  },
  {
   "cell_type": "code",
   "execution_count": 2,
   "id": "1538699f-87ff-471e-8baa-4705b9097905",
   "metadata": {},
   "outputs": [],
   "source": [
    "data_path = '../data/SQuAD_train_DF.h5'"
   ]
  },
  {
   "cell_type": "code",
   "execution_count": 3,
   "id": "55ccc3a0-e9e9-46ca-aa24-417c06516be3",
   "metadata": {},
   "outputs": [],
   "source": [
    "df = pd.read_hdf(data_path, 'df_train')"
   ]
  },
  {
   "cell_type": "code",
   "execution_count": 15,
   "id": "36eed2e1-66c5-4ccb-933c-116ead618a3e",
   "metadata": {},
   "outputs": [
    {
     "data": {
      "text/html": [
       "<div>\n",
       "<style scoped>\n",
       "    .dataframe tbody tr th:only-of-type {\n",
       "        vertical-align: middle;\n",
       "    }\n",
       "\n",
       "    .dataframe tbody tr th {\n",
       "        vertical-align: top;\n",
       "    }\n",
       "\n",
       "    .dataframe thead th {\n",
       "        text-align: right;\n",
       "    }\n",
       "</style>\n",
       "<table border=\"1\" class=\"dataframe\">\n",
       "  <thead>\n",
       "    <tr style=\"text-align: right;\">\n",
       "      <th></th>\n",
       "      <th>question</th>\n",
       "      <th>context</th>\n",
       "      <th>text</th>\n",
       "    </tr>\n",
       "  </thead>\n",
       "  <tbody>\n",
       "    <tr>\n",
       "      <th>14981</th>\n",
       "      <td>How many students are in Boston Public schools?</td>\n",
       "      <td>The Boston Public Schools enrolls 57,000 stude...</td>\n",
       "      <td>57,000</td>\n",
       "    </tr>\n",
       "    <tr>\n",
       "      <th>76522</th>\n",
       "      <td>What was the name of the deal in which Arizona...</td>\n",
       "      <td>Arizona, south of the Gila River was legally b...</td>\n",
       "      <td>Gadsden Purchase</td>\n",
       "    </tr>\n",
       "    <tr>\n",
       "      <th>60357</th>\n",
       "      <td>What can an exhibition game raise money for?</td>\n",
       "      <td>An exhibition game may also be used to settle ...</td>\n",
       "      <td>charities</td>\n",
       "    </tr>\n",
       "    <tr>\n",
       "      <th>86267</th>\n",
       "      <td>Who wrote 'City Boy: The Adventures of Herbie ...</td>\n",
       "      <td>The Bronx has been featured significantly in f...</td>\n",
       "      <td>Herman Wouk</td>\n",
       "    </tr>\n",
       "    <tr>\n",
       "      <th>24617</th>\n",
       "      <td>The New Delhi Municipal Government oversees wh...</td>\n",
       "      <td>New Delhi is governed through a municipal gove...</td>\n",
       "      <td>New Delhi</td>\n",
       "    </tr>\n",
       "  </tbody>\n",
       "</table>\n",
       "</div>"
      ],
      "text/plain": [
       "                                                question  \\\n",
       "14981    How many students are in Boston Public schools?   \n",
       "76522  What was the name of the deal in which Arizona...   \n",
       "60357       What can an exhibition game raise money for?   \n",
       "86267  Who wrote 'City Boy: The Adventures of Herbie ...   \n",
       "24617  The New Delhi Municipal Government oversees wh...   \n",
       "\n",
       "                                                 context              text  \n",
       "14981  The Boston Public Schools enrolls 57,000 stude...            57,000  \n",
       "76522  Arizona, south of the Gila River was legally b...  Gadsden Purchase  \n",
       "60357  An exhibition game may also be used to settle ...         charities  \n",
       "86267  The Bronx has been featured significantly in f...       Herman Wouk  \n",
       "24617  New Delhi is governed through a municipal gove...         New Delhi  "
      ]
     },
     "execution_count": 15,
     "metadata": {},
     "output_type": "execute_result"
    }
   ],
   "source": [
    "df.head()"
   ]
  },
  {
   "cell_type": "code",
   "execution_count": 4,
   "id": "e334197e-b7aa-457a-89c5-aaa82f5f14a6",
   "metadata": {},
   "outputs": [],
   "source": [
    "df_augment = df.sample(frac=0.1)"
   ]
  },
  {
   "cell_type": "code",
   "execution_count": 10,
   "id": "51dbb1aa-701e-4e1d-a966-43e52e7bc279",
   "metadata": {},
   "outputs": [],
   "source": [
    "def synonym_augmentation(text):\n",
    "    \"\"\"\n",
    "    This function augments a list of text by using synonyms\n",
    "     \n",
    "    Args:\n",
    "        text_list: A list containing the text to process.\n",
    "    \n",
    "    Returns:\n",
    "        A list of augmented text.\n",
    "    \"\"\"   \n",
    "    aug = SynonymAug()\n",
    "    augmented_text = aug.augment(text)\n",
    "    return augmented_text"
   ]
  },
  {
   "cell_type": "code",
   "execution_count": 6,
   "id": "f958de4b-ab5c-48bc-b4c8-d5e54223de5a",
   "metadata": {},
   "outputs": [],
   "source": [
    "def random_word_augmentation(text):\n",
    "    \"\"\"\n",
    "    This function augments a list of text by using synonyms\n",
    "     \n",
    "    Args:\n",
    "        text_list: A string containing the text to process.\n",
    "    \n",
    "    Returns:\n",
    "        A list of augmented text.\n",
    "    \"\"\" \n",
    "    aug = RandomWordAug()\n",
    "    augmented_text = aug.augment(text)\n",
    "    return augmented_text"
   ]
  },
  {
   "cell_type": "code",
   "execution_count": 7,
   "id": "42fddf9c-aba7-4323-bf5a-f51b4dc172fc",
   "metadata": {},
   "outputs": [],
   "source": [
    "df_synonym = pd.DataFrame(columns=['context', 'question', 'text'])"
   ]
  },
  {
   "cell_type": "code",
   "execution_count": 11,
   "id": "37de3206-dc28-4ff7-91a1-b75b8a3b3618",
   "metadata": {},
   "outputs": [],
   "source": [
    "df_synonym['context'] = df_augment['context'].apply(synonym_augmentation)\n",
    "df_synonym['question'] = df_augment['question'].apply(synonym_augmentation)\n",
    "df_synonym['text'] = df_augment['text'].apply(synonym_augmentation)"
   ]
  },
  {
   "cell_type": "code",
   "execution_count": 12,
   "id": "aab8a170-91c7-4b59-998e-90df207be517",
   "metadata": {},
   "outputs": [
    {
     "data": {
      "text/html": [
       "<div>\n",
       "<style scoped>\n",
       "    .dataframe tbody tr th:only-of-type {\n",
       "        vertical-align: middle;\n",
       "    }\n",
       "\n",
       "    .dataframe tbody tr th {\n",
       "        vertical-align: top;\n",
       "    }\n",
       "\n",
       "    .dataframe thead th {\n",
       "        text-align: right;\n",
       "    }\n",
       "</style>\n",
       "<table border=\"1\" class=\"dataframe\">\n",
       "  <thead>\n",
       "    <tr style=\"text-align: right;\">\n",
       "      <th></th>\n",
       "      <th>context</th>\n",
       "      <th>question</th>\n",
       "      <th>text</th>\n",
       "    </tr>\n",
       "  </thead>\n",
       "  <tbody>\n",
       "    <tr>\n",
       "      <th>23065</th>\n",
       "      <td>[Qur ' anic school (also known as dugsi) remai...</td>\n",
       "      <td>[What live another public figure for a Qur ' a...</td>\n",
       "      <td>[dugsi]</td>\n",
       "    </tr>\n",
       "    <tr>\n",
       "      <th>73562</th>\n",
       "      <td>[When Empress Dowager Deng died, Emperor An (r...</td>\n",
       "      <td>[Congenator of what family were exiled after S...</td>\n",
       "      <td>[Yan]</td>\n",
       "    </tr>\n",
       "    <tr>\n",
       "      <th>73980</th>\n",
       "      <td>[The Greek shipping tradition recovered during...</td>\n",
       "      <td>[What was brought around by the Ottomans that ...</td>\n",
       "      <td>[Hellenic transportation tradition recovered d...</td>\n",
       "    </tr>\n",
       "    <tr>\n",
       "      <th>29996</th>\n",
       "      <td>[High, inhuman water ice clouds such as Cirrus...</td>\n",
       "      <td>[Along with Stratus, what swarm are lower and ...</td>\n",
       "      <td>[Stratocumulus]</td>\n",
       "    </tr>\n",
       "    <tr>\n",
       "      <th>14929</th>\n",
       "      <td>[In 1950, whites represented 94. septenary% of...</td>\n",
       "      <td>[What percent of Boston ' s universe be white ...</td>\n",
       "      <td>[ninety four. sevener%]</td>\n",
       "    </tr>\n",
       "  </tbody>\n",
       "</table>\n",
       "</div>"
      ],
      "text/plain": [
       "                                                 context  \\\n",
       "23065  [Qur ' anic school (also known as dugsi) remai...   \n",
       "73562  [When Empress Dowager Deng died, Emperor An (r...   \n",
       "73980  [The Greek shipping tradition recovered during...   \n",
       "29996  [High, inhuman water ice clouds such as Cirrus...   \n",
       "14929  [In 1950, whites represented 94. septenary% of...   \n",
       "\n",
       "                                                question  \\\n",
       "23065  [What live another public figure for a Qur ' a...   \n",
       "73562  [Congenator of what family were exiled after S...   \n",
       "73980  [What was brought around by the Ottomans that ...   \n",
       "29996  [Along with Stratus, what swarm are lower and ...   \n",
       "14929  [What percent of Boston ' s universe be white ...   \n",
       "\n",
       "                                                    text  \n",
       "23065                                            [dugsi]  \n",
       "73562                                              [Yan]  \n",
       "73980  [Hellenic transportation tradition recovered d...  \n",
       "29996                                    [Stratocumulus]  \n",
       "14929                            [ninety four. sevener%]  "
      ]
     },
     "execution_count": 12,
     "metadata": {},
     "output_type": "execute_result"
    }
   ],
   "source": [
    "df_synonym.head()"
   ]
  },
  {
   "cell_type": "code",
   "execution_count": 19,
   "id": "3f79d2ac-34ce-4764-821d-3b7123ddf229",
   "metadata": {},
   "outputs": [],
   "source": [
    "df_synonym['context'] = df_synonym['context'].explode()\n",
    "df_synonym['question'] = df_synonym['question'].explode()\n",
    "df_synonym['text'] = df_synonym['text'].explode()"
   ]
  },
  {
   "cell_type": "code",
   "execution_count": 20,
   "id": "aeb43770-93fb-4230-b8bf-2c47b44ef56d",
   "metadata": {},
   "outputs": [],
   "source": [
    "df_random = pd.DataFrame(columns=['context', 'question', 'text'])"
   ]
  },
  {
   "cell_type": "code",
   "execution_count": 21,
   "id": "97cd81a7-4872-4a1d-85d2-93f3b7ce94ec",
   "metadata": {},
   "outputs": [],
   "source": [
    "df_random['context'] = df_augment['context'].apply(random_word_augmentation)\n",
    "df_random['question'] = df_augment['question'].apply(random_word_augmentation)\n",
    "df_random['text'] = df_augment['text'].apply(random_word_augmentation)"
   ]
  },
  {
   "cell_type": "code",
   "execution_count": 22,
   "id": "cad61d34-4b7b-41d2-a24f-f1c8ac4446bc",
   "metadata": {},
   "outputs": [
    {
     "data": {
      "text/html": [
       "<div>\n",
       "<style scoped>\n",
       "    .dataframe tbody tr th:only-of-type {\n",
       "        vertical-align: middle;\n",
       "    }\n",
       "\n",
       "    .dataframe tbody tr th {\n",
       "        vertical-align: top;\n",
       "    }\n",
       "\n",
       "    .dataframe thead th {\n",
       "        text-align: right;\n",
       "    }\n",
       "</style>\n",
       "<table border=\"1\" class=\"dataframe\">\n",
       "  <thead>\n",
       "    <tr style=\"text-align: right;\">\n",
       "      <th></th>\n",
       "      <th>context</th>\n",
       "      <th>question</th>\n",
       "      <th>text</th>\n",
       "    </tr>\n",
       "  </thead>\n",
       "  <tbody>\n",
       "    <tr>\n",
       "      <th>23065</th>\n",
       "      <td>[Qur ' anic schools (also known as dugsi) rema...</td>\n",
       "      <td>[Is name for a Qur ' school?]</td>\n",
       "      <td>[dugsi]</td>\n",
       "    </tr>\n",
       "    <tr>\n",
       "      <th>73562</th>\n",
       "      <td>[When Empress Deng died, Emperor An (r. 106 – ...</td>\n",
       "      <td>[Relatives were after Sun Cheng had the regime?]</td>\n",
       "      <td>[Yan]</td>\n",
       "    </tr>\n",
       "    <tr>\n",
       "      <th>73980</th>\n",
       "      <td>[The Greek shipping tradition during Ottoman r...</td>\n",
       "      <td>[What was brought by the Ottomans that uplift ...</td>\n",
       "      <td>[Greek shipping recovered during Ottoman when ...</td>\n",
       "    </tr>\n",
       "    <tr>\n",
       "      <th>29996</th>\n",
       "      <td>[High, cold ice clouds such as or Cumulonimbus...</td>\n",
       "      <td>[Along Stratus, what clouds and?]</td>\n",
       "      <td>[Stratocumulus]</td>\n",
       "    </tr>\n",
       "    <tr>\n",
       "      <th>14929</th>\n",
       "      <td>[In 1950, whites represented 94. 7% of Boston ...</td>\n",
       "      <td>[Percent ' s population was white 1950?]</td>\n",
       "      <td>[.%]</td>\n",
       "    </tr>\n",
       "  </tbody>\n",
       "</table>\n",
       "</div>"
      ],
      "text/plain": [
       "                                                 context  \\\n",
       "23065  [Qur ' anic schools (also known as dugsi) rema...   \n",
       "73562  [When Empress Deng died, Emperor An (r. 106 – ...   \n",
       "73980  [The Greek shipping tradition during Ottoman r...   \n",
       "29996  [High, cold ice clouds such as or Cumulonimbus...   \n",
       "14929  [In 1950, whites represented 94. 7% of Boston ...   \n",
       "\n",
       "                                                question  \\\n",
       "23065                      [Is name for a Qur ' school?]   \n",
       "73562   [Relatives were after Sun Cheng had the regime?]   \n",
       "73980  [What was brought by the Ottomans that uplift ...   \n",
       "29996                  [Along Stratus, what clouds and?]   \n",
       "14929           [Percent ' s population was white 1950?]   \n",
       "\n",
       "                                                    text  \n",
       "23065                                            [dugsi]  \n",
       "73562                                              [Yan]  \n",
       "73980  [Greek shipping recovered during Ottoman when ...  \n",
       "29996                                    [Stratocumulus]  \n",
       "14929                                               [.%]  "
      ]
     },
     "execution_count": 22,
     "metadata": {},
     "output_type": "execute_result"
    }
   ],
   "source": [
    "df_random.head()"
   ]
  },
  {
   "cell_type": "code",
   "execution_count": 23,
   "id": "527d092b-9013-486d-b271-7ea355c621cf",
   "metadata": {},
   "outputs": [],
   "source": [
    "df_random['context'] = df_random['context'].explode()\n",
    "df_random['question'] = df_random['question'].explode()\n",
    "df_random['text'] = df_random['text'].explode()"
   ]
  },
  {
   "cell_type": "code",
   "execution_count": 24,
   "id": "89ea9d4e-cf5e-436e-b958-388d68162233",
   "metadata": {},
   "outputs": [],
   "source": [
    "df = pd.concat([df, df_synonym, df_random], ignore_index=True)"
   ]
  },
  {
   "cell_type": "code",
   "execution_count": 25,
   "id": "e2658699-6cee-4363-a362-8069ea9e9630",
   "metadata": {},
   "outputs": [],
   "source": [
    "df.to_hdf('../data/SQuAD_train_augmented_DF.h5', key = 'df_train')"
   ]
  }
 ],
 "metadata": {
  "kernelspec": {
   "display_name": "Python 3 (ipykernel)",
   "language": "python",
   "name": "python3"
  },
  "language_info": {
   "codemirror_mode": {
    "name": "ipython",
    "version": 3
   },
   "file_extension": ".py",
   "mimetype": "text/x-python",
   "name": "python",
   "nbconvert_exporter": "python",
   "pygments_lexer": "ipython3",
   "version": "3.11.7"
  }
 },
 "nbformat": 4,
 "nbformat_minor": 5
}
