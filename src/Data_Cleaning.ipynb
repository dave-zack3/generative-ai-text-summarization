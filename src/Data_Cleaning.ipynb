{
 "cells": [
  {
   "cell_type": "markdown",
   "id": "92fc2e2c-8cbb-423d-8574-ab84f407dd9f",
   "metadata": {},
   "source": [
    "# Data Cleaning Script"
   ]
  },
  {
   "cell_type": "markdown",
   "id": "104d1e3f-661c-473a-8bbf-174500a39c4d",
   "metadata": {},
   "source": [
    "## Import necessary libraries"
   ]
  },
  {
   "cell_type": "code",
   "execution_count": 1,
   "id": "f6142ee8-7954-4673-a8f4-9300afcbf818",
   "metadata": {},
   "outputs": [],
   "source": [
    "import numpy as np\n",
    "import pandas as pd\n",
    "import json"
   ]
  },
  {
   "cell_type": "markdown",
   "id": "5b2c7686-0ce9-4f45-8027-e4f5849bb5f0",
   "metadata": {},
   "source": [
    "## Provide the path to the data in the folder structure set up"
   ]
  },
  {
   "cell_type": "code",
   "execution_count": 2,
   "id": "f03c6f64-c071-4e6e-922c-49c6721ea08e",
   "metadata": {},
   "outputs": [],
   "source": [
    "data_path = '../data/SQuAD_train-v1.1.json'"
   ]
  },
  {
   "cell_type": "markdown",
   "id": "2d87c286-0297-4f0e-9441-2be1d6882c0d",
   "metadata": {},
   "source": [
    "## Write a function to convert the json data into a pandas dataframe"
   ]
  },
  {
   "cell_type": "code",
   "execution_count": 3,
   "id": "3cc8198c-78ea-4e70-81f0-878abce7f862",
   "metadata": {},
   "outputs": [],
   "source": [
    "def squad_json_to_dataframe(input_file_path, record_path = ['data','paragraphs','qas','answers']):\n",
    "    \"\"\"\n",
    "    Code found at the following location: https://www.kaggle.com/code/sanjay11100/squad-stanford-q-a-json-to-pandas-dataframe\n",
    "    \n",
    "    input_file_path: path to the squad json file.\n",
    "    record_path: path to deepest level in json file default value is\n",
    "    ['data','paragraphs','qas','answers']\n",
    "    verbose: 0 to suppress it default is 1\n",
    "    \"\"\"\n",
    "    file = json.loads(open(input_file_path).read())\n",
    "    # parsing different level's in the json file\n",
    "    js = pd.json_normalize(file, record_path)\n",
    "    m = pd.json_normalize(file, record_path[:-1])\n",
    "    r = pd.json_normalize(file, record_path[:-2])\n",
    "    \n",
    "    #combining it into single dataframe\n",
    "    idx = np.repeat(r['context'].values, r.qas.str.len())\n",
    "    ndx  = np.repeat(m['id'].values,m['answers'].str.len())\n",
    "    m['context'] = idx\n",
    "    js['q_idx'] = ndx\n",
    "    main = pd.concat( [m[['id','question','context']].set_index('id'), js.set_index('q_idx')], axis= 1).reset_index()\n",
    "    main['c_id'] = main['context'].factorize()[0]\n",
    "    return main"
   ]
  },
  {
   "cell_type": "code",
   "execution_count": 4,
   "id": "15353d3c-73e1-4f9c-9402-e0ce20d93af7",
   "metadata": {},
   "outputs": [],
   "source": [
    "df = squad_json_to_dataframe(data_path)"
   ]
  },
  {
   "cell_type": "markdown",
   "id": "fadd55b3-e590-4ac0-a6cf-405f90dc8c96",
   "metadata": {},
   "source": [
    "## Column Explanation:\n",
    "- index: unique identifier for the question/context/answer pair\n",
    "- question: question asked about the context\n",
    "- context: context provided to allow for the question to be answered\n",
    "- answer start: numerical value of the index at which the answer begins in the context paragraph\n",
    "- text: answer to the question given the context\n",
    "- c_id:  a unique id for each context paragraph, where a context paragraph can be used multiple times for different questions"
   ]
  },
  {
   "cell_type": "code",
   "execution_count": 5,
   "id": "99e6504e-439a-411c-a57e-3f8365aba0f9",
   "metadata": {},
   "outputs": [
    {
     "data": {
      "text/html": [
       "<div>\n",
       "<style scoped>\n",
       "    .dataframe tbody tr th:only-of-type {\n",
       "        vertical-align: middle;\n",
       "    }\n",
       "\n",
       "    .dataframe tbody tr th {\n",
       "        vertical-align: top;\n",
       "    }\n",
       "\n",
       "    .dataframe thead th {\n",
       "        text-align: right;\n",
       "    }\n",
       "</style>\n",
       "<table border=\"1\" class=\"dataframe\">\n",
       "  <thead>\n",
       "    <tr style=\"text-align: right;\">\n",
       "      <th></th>\n",
       "      <th>index</th>\n",
       "      <th>question</th>\n",
       "      <th>context</th>\n",
       "      <th>answer_start</th>\n",
       "      <th>text</th>\n",
       "      <th>c_id</th>\n",
       "    </tr>\n",
       "  </thead>\n",
       "  <tbody>\n",
       "    <tr>\n",
       "      <th>0</th>\n",
       "      <td>5733be284776f41900661182</td>\n",
       "      <td>To whom did the Virgin Mary allegedly appear i...</td>\n",
       "      <td>Architecturally, the school has a Catholic cha...</td>\n",
       "      <td>515</td>\n",
       "      <td>Saint Bernadette Soubirous</td>\n",
       "      <td>0</td>\n",
       "    </tr>\n",
       "    <tr>\n",
       "      <th>1</th>\n",
       "      <td>5733be284776f4190066117f</td>\n",
       "      <td>What is in front of the Notre Dame Main Building?</td>\n",
       "      <td>Architecturally, the school has a Catholic cha...</td>\n",
       "      <td>188</td>\n",
       "      <td>a copper statue of Christ</td>\n",
       "      <td>0</td>\n",
       "    </tr>\n",
       "    <tr>\n",
       "      <th>2</th>\n",
       "      <td>5733be284776f41900661180</td>\n",
       "      <td>The Basilica of the Sacred heart at Notre Dame...</td>\n",
       "      <td>Architecturally, the school has a Catholic cha...</td>\n",
       "      <td>279</td>\n",
       "      <td>the Main Building</td>\n",
       "      <td>0</td>\n",
       "    </tr>\n",
       "    <tr>\n",
       "      <th>3</th>\n",
       "      <td>5733be284776f41900661181</td>\n",
       "      <td>What is the Grotto at Notre Dame?</td>\n",
       "      <td>Architecturally, the school has a Catholic cha...</td>\n",
       "      <td>381</td>\n",
       "      <td>a Marian place of prayer and reflection</td>\n",
       "      <td>0</td>\n",
       "    </tr>\n",
       "    <tr>\n",
       "      <th>4</th>\n",
       "      <td>5733be284776f4190066117e</td>\n",
       "      <td>What sits on top of the Main Building at Notre...</td>\n",
       "      <td>Architecturally, the school has a Catholic cha...</td>\n",
       "      <td>92</td>\n",
       "      <td>a golden statue of the Virgin Mary</td>\n",
       "      <td>0</td>\n",
       "    </tr>\n",
       "  </tbody>\n",
       "</table>\n",
       "</div>"
      ],
      "text/plain": [
       "                      index  \\\n",
       "0  5733be284776f41900661182   \n",
       "1  5733be284776f4190066117f   \n",
       "2  5733be284776f41900661180   \n",
       "3  5733be284776f41900661181   \n",
       "4  5733be284776f4190066117e   \n",
       "\n",
       "                                            question  \\\n",
       "0  To whom did the Virgin Mary allegedly appear i...   \n",
       "1  What is in front of the Notre Dame Main Building?   \n",
       "2  The Basilica of the Sacred heart at Notre Dame...   \n",
       "3                  What is the Grotto at Notre Dame?   \n",
       "4  What sits on top of the Main Building at Notre...   \n",
       "\n",
       "                                             context  answer_start  \\\n",
       "0  Architecturally, the school has a Catholic cha...           515   \n",
       "1  Architecturally, the school has a Catholic cha...           188   \n",
       "2  Architecturally, the school has a Catholic cha...           279   \n",
       "3  Architecturally, the school has a Catholic cha...           381   \n",
       "4  Architecturally, the school has a Catholic cha...            92   \n",
       "\n",
       "                                      text  c_id  \n",
       "0               Saint Bernadette Soubirous     0  \n",
       "1                a copper statue of Christ     0  \n",
       "2                        the Main Building     0  \n",
       "3  a Marian place of prayer and reflection     0  \n",
       "4       a golden statue of the Virgin Mary     0  "
      ]
     },
     "execution_count": 5,
     "metadata": {},
     "output_type": "execute_result"
    }
   ],
   "source": [
    "df.head()"
   ]
  },
  {
   "cell_type": "markdown",
   "id": "aea26cce-cc85-4251-b31d-00a3ab3edb93",
   "metadata": {},
   "source": [
    "## Investigate the resulting dataframe to clean if necessary"
   ]
  },
  {
   "cell_type": "code",
   "execution_count": 6,
   "id": "2fe31d58-13cf-464c-8785-b882cc62725c",
   "metadata": {
    "scrolled": true
   },
   "outputs": [
    {
     "data": {
      "text/plain": [
       "(87599, 6)"
      ]
     },
     "execution_count": 6,
     "metadata": {},
     "output_type": "execute_result"
    }
   ],
   "source": [
    "df.shape"
   ]
  },
  {
   "cell_type": "markdown",
   "id": "b065ba6f-79af-464b-9041-a6f42029fc68",
   "metadata": {},
   "source": [
    "There are 87,599 responses"
   ]
  },
  {
   "cell_type": "code",
   "execution_count": 7,
   "id": "969dcbb8-ff4e-4bbb-8b2d-79c90ae63c04",
   "metadata": {},
   "outputs": [
    {
     "name": "stdout",
     "output_type": "stream",
     "text": [
      "<class 'pandas.core.frame.DataFrame'>\n",
      "RangeIndex: 87599 entries, 0 to 87598\n",
      "Data columns (total 6 columns):\n",
      " #   Column        Non-Null Count  Dtype \n",
      "---  ------        --------------  ----- \n",
      " 0   index         87599 non-null  object\n",
      " 1   question      87599 non-null  object\n",
      " 2   context       87599 non-null  object\n",
      " 3   answer_start  87599 non-null  int64 \n",
      " 4   text          87599 non-null  object\n",
      " 5   c_id          87599 non-null  int64 \n",
      "dtypes: int64(2), object(4)\n",
      "memory usage: 4.0+ MB\n"
     ]
    }
   ],
   "source": [
    "df.info()"
   ]
  },
  {
   "cell_type": "markdown",
   "id": "59786302-7be7-4644-850a-97145f597987",
   "metadata": {},
   "source": [
    "There are no no-null values in the dataframe"
   ]
  },
  {
   "cell_type": "code",
   "execution_count": 8,
   "id": "24756dce-34a5-4197-a309-c4abbf289b53",
   "metadata": {},
   "outputs": [],
   "source": [
    "df.drop_duplicates(inplace = True)"
   ]
  },
  {
   "cell_type": "code",
   "execution_count": 9,
   "id": "9c0d1823-fe18-4c74-be76-c2012ed470d4",
   "metadata": {},
   "outputs": [
    {
     "name": "stdout",
     "output_type": "stream",
     "text": [
      "<class 'pandas.core.frame.DataFrame'>\n",
      "RangeIndex: 87599 entries, 0 to 87598\n",
      "Data columns (total 6 columns):\n",
      " #   Column        Non-Null Count  Dtype \n",
      "---  ------        --------------  ----- \n",
      " 0   index         87599 non-null  object\n",
      " 1   question      87599 non-null  object\n",
      " 2   context       87599 non-null  object\n",
      " 3   answer_start  87599 non-null  int64 \n",
      " 4   text          87599 non-null  object\n",
      " 5   c_id          87599 non-null  int64 \n",
      "dtypes: int64(2), object(4)\n",
      "memory usage: 4.0+ MB\n"
     ]
    }
   ],
   "source": [
    "df.info()"
   ]
  },
  {
   "cell_type": "markdown",
   "id": "0e06d748-7892-43ad-9b74-4119d90faba0",
   "metadata": {},
   "source": [
    "There are no duplicate rows in the dataframe"
   ]
  },
  {
   "cell_type": "markdown",
   "id": "9752eae3-86c4-4797-8fa5-2ae764994af3",
   "metadata": {},
   "source": [
    "## Save the resulting, cleaned pandas dataframe"
   ]
  },
  {
   "cell_type": "code",
   "execution_count": 10,
   "id": "78f49bc2-4af4-496c-842c-b12199573c9e",
   "metadata": {},
   "outputs": [],
   "source": [
    "df.to_hdf('../data/SQuAD_Cleaned_DF.h5', key = 'df')"
   ]
  }
 ],
 "metadata": {
  "kernelspec": {
   "display_name": "Python 3 (ipykernel)",
   "language": "python",
   "name": "python3"
  },
  "language_info": {
   "codemirror_mode": {
    "name": "ipython",
    "version": 3
   },
   "file_extension": ".py",
   "mimetype": "text/x-python",
   "name": "python",
   "nbconvert_exporter": "python",
   "pygments_lexer": "ipython3",
   "version": "3.11.7"
  }
 },
 "nbformat": 4,
 "nbformat_minor": 5
}
