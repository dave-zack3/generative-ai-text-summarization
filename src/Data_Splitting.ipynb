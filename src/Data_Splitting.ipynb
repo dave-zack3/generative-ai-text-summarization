{
 "cells": [
  {
   "cell_type": "markdown",
   "id": "16c0d5a0-a80a-4034-aba8-7c0819e55d55",
   "metadata": {},
   "source": [
    "# Data Splitting Script"
   ]
  },
  {
   "cell_type": "code",
   "execution_count": 1,
   "id": "dc7dd411-0af9-4748-99ac-c6735c3066a6",
   "metadata": {},
   "outputs": [],
   "source": [
    "import pandas as pd\n",
    "from sklearn.model_selection import train_test_split"
   ]
  },
  {
   "cell_type": "code",
   "execution_count": 2,
   "id": "75db7097-f36d-4f6a-a7aa-062db507dc69",
   "metadata": {},
   "outputs": [],
   "source": [
    "data_path = '../data/SQuAD_Cleaned_DF.h5'"
   ]
  },
  {
   "cell_type": "code",
   "execution_count": 3,
   "id": "50b2c0d7-ff4b-4880-83c6-ca710e4b9c87",
   "metadata": {},
   "outputs": [],
   "source": [
    "df = pd.read_hdf(data_path, 'df')"
   ]
  },
  {
   "cell_type": "code",
   "execution_count": 5,
   "id": "185ceffe-e8ea-473a-a17d-18d2dfd14a01",
   "metadata": {},
   "outputs": [],
   "source": [
    "X = df[['question','context']] # X variables are the question and context\n",
    "df['answer_start'] + df['text'].apply(lambda x: len(x)) \n",
    "y = df['text'] # target variable is the answer which is 'text'"
   ]
  },
  {
   "cell_type": "code",
   "execution_count": 6,
   "id": "f5ee5b8a-41e8-481f-bae1-2f188e62d739",
   "metadata": {},
   "outputs": [],
   "source": [
    "# Generate train and test data\n",
    "X_train, X_test, y_train, y_test = train_test_split(X, y, test_size = 0.2, random_state = 42)"
   ]
  },
  {
   "cell_type": "code",
   "execution_count": 7,
   "id": "ea2b53b7-3d57-4225-8e9a-2a032cb4a0f5",
   "metadata": {},
   "outputs": [],
   "source": [
    "# Generate train and validation data\n",
    "X_train, X_val, y_train, y_val = train_test_split(X_train, y_train, test_size = 0.2, random_state = 42)"
   ]
  },
  {
   "cell_type": "code",
   "execution_count": 8,
   "id": "ec2e3a06-49c4-4e0e-9c26-82326795c4b8",
   "metadata": {},
   "outputs": [],
   "source": [
    "# Create dataframes to store train, validation, and test data\n",
    "df_train = pd.concat([X_train, y_train], axis = 1)\n",
    "df_val = pd.concat([X_val, y_val], axis = 1)\n",
    "df_test = pd.concat([X_test, y_test], axis = 1)"
   ]
  },
  {
   "cell_type": "code",
   "execution_count": 9,
   "id": "958346a4-7497-44a0-a607-85f000324184",
   "metadata": {},
   "outputs": [
    {
     "data": {
      "text/html": [
       "<div>\n",
       "<style scoped>\n",
       "    .dataframe tbody tr th:only-of-type {\n",
       "        vertical-align: middle;\n",
       "    }\n",
       "\n",
       "    .dataframe tbody tr th {\n",
       "        vertical-align: top;\n",
       "    }\n",
       "\n",
       "    .dataframe thead th {\n",
       "        text-align: right;\n",
       "    }\n",
       "</style>\n",
       "<table border=\"1\" class=\"dataframe\">\n",
       "  <thead>\n",
       "    <tr style=\"text-align: right;\">\n",
       "      <th></th>\n",
       "      <th>question</th>\n",
       "      <th>context</th>\n",
       "      <th>text</th>\n",
       "    </tr>\n",
       "  </thead>\n",
       "  <tbody>\n",
       "    <tr>\n",
       "      <th>14981</th>\n",
       "      <td>How many students are in Boston Public schools?</td>\n",
       "      <td>The Boston Public Schools enrolls 57,000 stude...</td>\n",
       "      <td>57,000</td>\n",
       "    </tr>\n",
       "    <tr>\n",
       "      <th>76522</th>\n",
       "      <td>What was the name of the deal in which Arizona...</td>\n",
       "      <td>Arizona, south of the Gila River was legally b...</td>\n",
       "      <td>Gadsden Purchase</td>\n",
       "    </tr>\n",
       "    <tr>\n",
       "      <th>60357</th>\n",
       "      <td>What can an exhibition game raise money for?</td>\n",
       "      <td>An exhibition game may also be used to settle ...</td>\n",
       "      <td>charities</td>\n",
       "    </tr>\n",
       "    <tr>\n",
       "      <th>86267</th>\n",
       "      <td>Who wrote 'City Boy: The Adventures of Herbie ...</td>\n",
       "      <td>The Bronx has been featured significantly in f...</td>\n",
       "      <td>Herman Wouk</td>\n",
       "    </tr>\n",
       "    <tr>\n",
       "      <th>24617</th>\n",
       "      <td>The New Delhi Municipal Government oversees wh...</td>\n",
       "      <td>New Delhi is governed through a municipal gove...</td>\n",
       "      <td>New Delhi</td>\n",
       "    </tr>\n",
       "  </tbody>\n",
       "</table>\n",
       "</div>"
      ],
      "text/plain": [
       "                                                question  \\\n",
       "14981    How many students are in Boston Public schools?   \n",
       "76522  What was the name of the deal in which Arizona...   \n",
       "60357       What can an exhibition game raise money for?   \n",
       "86267  Who wrote 'City Boy: The Adventures of Herbie ...   \n",
       "24617  The New Delhi Municipal Government oversees wh...   \n",
       "\n",
       "                                                 context              text  \n",
       "14981  The Boston Public Schools enrolls 57,000 stude...            57,000  \n",
       "76522  Arizona, south of the Gila River was legally b...  Gadsden Purchase  \n",
       "60357  An exhibition game may also be used to settle ...         charities  \n",
       "86267  The Bronx has been featured significantly in f...       Herman Wouk  \n",
       "24617  New Delhi is governed through a municipal gove...         New Delhi  "
      ]
     },
     "execution_count": 9,
     "metadata": {},
     "output_type": "execute_result"
    }
   ],
   "source": [
    "# Check to ensure the data concatenated together properly\n",
    "df_train.head()"
   ]
  },
  {
   "cell_type": "code",
   "execution_count": 10,
   "id": "495c2ab6-f4cc-4aa3-83a1-e4e65ae63649",
   "metadata": {},
   "outputs": [],
   "source": [
    "# Save train, validation, and test data\n",
    "df_train.to_hdf('../data/SQuAD_train_DF.h5', key = 'df_train')\n",
    "df_val.to_hdf('../data/SQuAD_val_DF.h5', key = 'df_val')\n",
    "df_test.to_hdf('../data/SQuAD_test_DF.h5', key = 'df_test')"
   ]
  }
 ],
 "metadata": {
  "kernelspec": {
   "display_name": "Python 3 (ipykernel)",
   "language": "python",
   "name": "python3"
  },
  "language_info": {
   "codemirror_mode": {
    "name": "ipython",
    "version": 3
   },
   "file_extension": ".py",
   "mimetype": "text/x-python",
   "name": "python",
   "nbconvert_exporter": "python",
   "pygments_lexer": "ipython3",
   "version": "3.11.7"
  }
 },
 "nbformat": 4,
 "nbformat_minor": 5
}
