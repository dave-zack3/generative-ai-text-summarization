{
 "cells": [
  {
   "cell_type": "markdown",
   "id": "f89cbad9-41eb-4dfd-8463-7e3fd4ae4114",
   "metadata": {},
   "source": [
    "# Feature Engineering Script"
   ]
  },
  {
   "cell_type": "code",
   "execution_count": 1,
   "id": "7015b963-8181-42f5-951a-7369d5bad46d",
   "metadata": {},
   "outputs": [],
   "source": [
    "import pandas as pd\n",
    "import nltk"
   ]
  },
  {
   "cell_type": "code",
   "execution_count": 7,
   "id": "2d8b1426-8f3a-4a48-83c3-5eda101a41e4",
   "metadata": {},
   "outputs": [
    {
     "name": "stderr",
     "output_type": "stream",
     "text": [
      "[nltk_data] Downloading package averaged_perceptron_tagger to\n",
      "[nltk_data]     C:\\Users\\638658\\AppData\\Roaming\\nltk_data...\n",
      "[nltk_data]   Package averaged_perceptron_tagger is already up-to-\n",
      "[nltk_data]       date!\n",
      "[nltk_data] Downloading package maxent_ne_chunker to\n",
      "[nltk_data]     C:\\Users\\638658\\AppData\\Roaming\\nltk_data...\n",
      "[nltk_data]   Package maxent_ne_chunker is already up-to-date!\n",
      "[nltk_data] Downloading package words to\n",
      "[nltk_data]     C:\\Users\\638658\\AppData\\Roaming\\nltk_data...\n",
      "[nltk_data]   Unzipping corpora\\words.zip.\n"
     ]
    },
    {
     "data": {
      "text/plain": [
       "True"
      ]
     },
     "execution_count": 7,
     "metadata": {},
     "output_type": "execute_result"
    }
   ],
   "source": [
    "nltk.download('averaged_perceptron_tagger')\n",
    "nltk.download('maxent_ne_chunker')\n",
    "nltk.download('words')"
   ]
  },
  {
   "cell_type": "code",
   "execution_count": 3,
   "id": "1afc795c-e888-466e-bfca-c6dc97205bf0",
   "metadata": {},
   "outputs": [],
   "source": [
    "data_path = '../data/SQuAD_Processed_DF.h5'"
   ]
  },
  {
   "cell_type": "code",
   "execution_count": 4,
   "id": "aac54d72-cb48-4efd-a859-cf09beb6e7a3",
   "metadata": {},
   "outputs": [],
   "source": [
    "df = pd.read_hdf(data_path, 'df')"
   ]
  },
  {
   "cell_type": "markdown",
   "id": "0a3bd624-4e12-424c-a37a-f7ef83e2e162",
   "metadata": {},
   "source": [
    "## Apply Part of Speech (POS) and Name Entity Recognition (NER) to all text in the dataframe"
   ]
  },
  {
   "cell_type": "code",
   "execution_count": 5,
   "id": "abaed479-caca-42a9-a836-c0e9a1c8aee4",
   "metadata": {},
   "outputs": [],
   "source": [
    "def apply_pos_and_ner(text_list):\n",
    "    \"\"\"\n",
    "    This function performs part of speech (POS) and name entity recognition (NER)\n",
    "     \n",
    "    Args:\n",
    "        text_list: A list of tokenized strings to process\n",
    "    \n",
    "    Returns:\n",
    "        A list of tagged tokens\n",
    "    \"\"\"\n",
    "    output = []\n",
    "    for word in text_list:\n",
    "        tokens = nltk.word_tokenize(word)  # tokenize\n",
    "        tagged = nltk.pos_tag(tokens)\n",
    "        output.append(nltk.chunk.ne_chunk(tagged))\n",
    "    return output"
   ]
  },
  {
   "cell_type": "code",
   "execution_count": 8,
   "id": "5492b7ff-99c6-4d2e-85cc-4286fa8bbb70",
   "metadata": {},
   "outputs": [],
   "source": [
    "df['question'] = df['question'].apply(apply_pos_and_ner)\n",
    "df['context'] = df['context'].apply(apply_pos_and_ner)\n",
    "df['text'] = df['text'].apply(apply_pos_and_ner)"
   ]
  },
  {
   "cell_type": "markdown",
   "id": "28c45f0d-9879-41f4-b86d-73feaacb96b5",
   "metadata": {},
   "source": [
    "## Ensure POS and NER were applied"
   ]
  },
  {
   "cell_type": "code",
   "execution_count": 12,
   "id": "bce29026-7df6-4250-9542-aef89e0e3ced",
   "metadata": {},
   "outputs": [
    {
     "data": {
      "text/plain": [
       "[Tree('S', [('architectur', 'NN')]),\n",
       " Tree('S', [(',', ',')]),\n",
       " Tree('S', [('school', 'NN')]),\n",
       " Tree('S', [('cathol', 'NN')]),\n",
       " Tree('S', [('charact', 'NN')]),\n",
       " Tree('S', [('.', '.')]),\n",
       " Tree('S', [('atop', 'NN')]),\n",
       " Tree('S', [('main', 'JJ')]),\n",
       " Tree('S', [('build', 'NN')]),\n",
       " Tree('S', [(\"'s\", 'POS')]),\n",
       " Tree('S', [('gold', 'NN')]),\n",
       " Tree('S', [('dome', 'NN')]),\n",
       " Tree('S', [('golden', 'JJ')]),\n",
       " Tree('S', [('statu', 'NN')]),\n",
       " Tree('S', [('virgin', 'NN')]),\n",
       " Tree('S', [('mari', 'NN')]),\n",
       " Tree('S', [('.', '.')]),\n",
       " Tree('S', [('immedi', 'NN')]),\n",
       " Tree('S', [('front', 'NN')]),\n",
       " Tree('S', [('main', 'JJ')]),\n",
       " Tree('S', [('build', 'NN')]),\n",
       " Tree('S', [('face', 'NN')]),\n",
       " Tree('S', [(',', ',')]),\n",
       " Tree('S', [('copper', 'NN')]),\n",
       " Tree('S', [('statu', 'NN')]),\n",
       " Tree('S', [('christ', 'NN')]),\n",
       " Tree('S', [('arm', 'NN')]),\n",
       " Tree('S', [('uprais', 'NN')]),\n",
       " Tree('S', [('legend', 'NN')]),\n",
       " Tree('S', [('``', '``')]),\n",
       " Tree('S', [('venit', 'NN')]),\n",
       " Tree('S', [('ad', 'NN')]),\n",
       " Tree('S', [('omn', 'NN')]),\n",
       " Tree('S', [(\"''\", \"''\")]),\n",
       " Tree('S', [('.', '.')]),\n",
       " Tree('S', [('next', 'JJ')]),\n",
       " Tree('S', [('main', 'JJ')]),\n",
       " Tree('S', [('build', 'NN')]),\n",
       " Tree('S', [('basilica', 'NN')]),\n",
       " Tree('S', [('sacr', 'NN')]),\n",
       " Tree('S', [('heart', 'NN')]),\n",
       " Tree('S', [('.', '.')]),\n",
       " Tree('S', [('immedi', 'NN')]),\n",
       " Tree('S', [('behind', 'IN')]),\n",
       " Tree('S', [('basilica', 'NN')]),\n",
       " Tree('S', [('grotto', 'NN')]),\n",
       " Tree('S', [(',', ',')]),\n",
       " Tree('S', [('marian', 'NN')]),\n",
       " Tree('S', [('place', 'NN')]),\n",
       " Tree('S', [('prayer', 'NN')]),\n",
       " Tree('S', [('reflect', 'NN')]),\n",
       " Tree('S', [('.', '.')]),\n",
       " Tree('S', [('replica', 'NN')]),\n",
       " Tree('S', [('grotto', 'NN')]),\n",
       " Tree('S', [('lourd', 'NN')]),\n",
       " Tree('S', [(',', ',')]),\n",
       " Tree('S', [('franc', 'NN')]),\n",
       " Tree('S', [('virgin', 'NN')]),\n",
       " Tree('S', [('mari', 'NN')]),\n",
       " Tree('S', [('reputedli', 'NN')]),\n",
       " Tree('S', [('appear', 'VB')]),\n",
       " Tree('S', [('saint', 'NN')]),\n",
       " Tree('S', [('bernadett', 'NN')]),\n",
       " Tree('S', [('soubir', 'NN')]),\n",
       " Tree('S', [('1858', 'CD'), ('.', '.')]),\n",
       " Tree('S', [('end', 'NN')]),\n",
       " Tree('S', [('main', 'JJ')]),\n",
       " Tree('S', [('drive', 'NN')]),\n",
       " Tree('S', [('(', '(')]),\n",
       " Tree('S', [('direct', 'JJ')]),\n",
       " Tree('S', [('line', 'NN')]),\n",
       " Tree('S', [('connect', 'NN')]),\n",
       " Tree('S', [('3', 'CD')]),\n",
       " Tree('S', [('statu', 'NN')]),\n",
       " Tree('S', [('gold', 'NN')]),\n",
       " Tree('S', [('dome', 'NN')]),\n",
       " Tree('S', [(')', ')')]),\n",
       " Tree('S', [(',', ',')]),\n",
       " Tree('S', [('simpl', 'NN')]),\n",
       " Tree('S', [(',', ',')]),\n",
       " Tree('S', [('modern', 'JJ')]),\n",
       " Tree('S', [('stone', 'NN')]),\n",
       " Tree('S', [('statu', 'NN')]),\n",
       " Tree('S', [('mari', 'NN')]),\n",
       " Tree('S', [('.', '.')])]"
      ]
     },
     "execution_count": 12,
     "metadata": {},
     "output_type": "execute_result"
    }
   ],
   "source": [
    "df['context'][0]"
   ]
  },
  {
   "cell_type": "code",
   "execution_count": 13,
   "id": "4d96d14f-c1d5-4b7f-b106-6e6b1d32ae33",
   "metadata": {},
   "outputs": [
    {
     "name": "stderr",
     "output_type": "stream",
     "text": [
      "C:\\Users\\638658\\AppData\\Local\\Temp\\ipykernel_28584\\2001926853.py:1: PerformanceWarning: \n",
      "your performance may suffer as PyTables will pickle object types that it cannot\n",
      "map directly to c-types [inferred_type->mixed,key->block1_values] [items->Index(['index', 'question', 'context', 'text'], dtype='object')]\n",
      "\n",
      "  df.to_hdf('../data/SQuAD_Engineered_DF.h5', key = 'df')\n"
     ]
    }
   ],
   "source": [
    "df.to_hdf('../data/SQuAD_Engineered_DF.h5', key = 'df')"
   ]
  }
 ],
 "metadata": {
  "kernelspec": {
   "display_name": "Python 3 (ipykernel)",
   "language": "python",
   "name": "python3"
  },
  "language_info": {
   "codemirror_mode": {
    "name": "ipython",
    "version": 3
   },
   "file_extension": ".py",
   "mimetype": "text/x-python",
   "name": "python",
   "nbconvert_exporter": "python",
   "pygments_lexer": "ipython3",
   "version": "3.11.7"
  }
 },
 "nbformat": 4,
 "nbformat_minor": 5
}
