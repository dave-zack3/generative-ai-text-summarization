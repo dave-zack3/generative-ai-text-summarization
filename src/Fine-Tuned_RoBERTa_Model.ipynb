{
 "cells": [
  {
   "cell_type": "markdown",
   "id": "b1f3dd7d-e1bd-4ce1-943d-60ecebcb67a8",
   "metadata": {},
   "source": [
    "# Fine-Tuned RoBERTa Model"
   ]
  },
  {
   "cell_type": "code",
   "execution_count": 1,
   "id": "33d59824-f946-4aa2-b395-d5c423575655",
   "metadata": {},
   "outputs": [],
   "source": [
    "from transformers import RobertaForQuestionAnswering, RobertaTokenizer\n",
    "from datasets import load_dataset, load_metric\n",
    "import torch\n",
    "from transformers import TrainingArguments, Trainer\n",
    "from accelerate import Accelerator"
   ]
  },
  {
   "cell_type": "code",
   "execution_count": 2,
   "id": "349d1996-25b4-4427-9094-41971f269375",
   "metadata": {},
   "outputs": [],
   "source": [
    "train_data_path = '../data/roberta_train.pt'\n",
    "val_data_path = '../data/roberta_val.pt'\n",
    "test_data_path = '../data/roberta_test.pt'"
   ]
  },
  {
   "cell_type": "code",
   "execution_count": 3,
   "id": "d70d369b-19c9-467c-ba4c-a7ef60ba062c",
   "metadata": {},
   "outputs": [],
   "source": [
    "train_data = torch.load('../data/roberta_train.pt')\n",
    "val_data = torch.load('../data/roberta_val.pt')\n",
    "test_data = torch.load('../data/roberta_test.pt')"
   ]
  },
  {
   "cell_type": "code",
   "execution_count": 4,
   "id": "954a4f26-1752-4a0e-87f0-f30f5833ec98",
   "metadata": {},
   "outputs": [
    {
     "name": "stdout",
     "output_type": "stream",
     "text": [
      "The number of rows in input_ids: 67275\n",
      "The number of rows in attention_mask: 67275\n",
      "The number of rows in start_positions: 67275\n",
      "The number of rows in end_positions: 67275\n",
      "The number of rows in answer_mask: 67275\n"
     ]
    }
   ],
   "source": [
    "print(f'The number of rows in input_ids: {len(train_data[\"input_ids\"])}')\n",
    "print(f'The number of rows in attention_mask: {len(train_data[\"attention_mask\"])}')\n",
    "print(f'The number of rows in start_positions: {len(train_data[\"start_positions\"])}')\n",
    "print(f'The number of rows in end_positions: {len(train_data[\"end_positions\"])}')\n",
    "print(f'The number of rows in answer_mask: {len(train_data[\"answer_mask\"])}')"
   ]
  },
  {
   "cell_type": "code",
   "execution_count": 18,
   "id": "691a9739-64d2-4b69-916b-20b47c72ba73",
   "metadata": {},
   "outputs": [],
   "source": [
    "test_train_data = {'input_ids': train_data['input_ids'],\n",
    "                   'attention_mask': train_data['attention_mask'],\n",
    "                   'start_positions': train_data['start_positions'],\n",
    "                   'end_positions': train_data['end_positions']}\n",
    "\n",
    "test_val_data = {'input_ids': val_data['input_ids'],\n",
    "                 'attention_mask': val_data['attention_mask'],\n",
    "                 'start_positions': val_data['start_positions'],\n",
    "                 'end_positions': val_data['end_positions']}"
   ]
  },
  {
   "cell_type": "code",
   "execution_count": 11,
   "id": "fde7e03b-4924-452b-9d73-375d6e57483a",
   "metadata": {},
   "outputs": [
    {
     "name": "stderr",
     "output_type": "stream",
     "text": [
      "Some weights of RobertaForQuestionAnswering were not initialized from the model checkpoint at roberta-base and are newly initialized: ['qa_outputs.bias', 'qa_outputs.weight']\n",
      "You should probably TRAIN this model on a down-stream task to be able to use it for predictions and inference.\n"
     ]
    }
   ],
   "source": [
    "model_name = \"roberta-base\"\n",
    "tokenizer = RobertaTokenizer.from_pretrained(model_name)\n",
    "model = RobertaForQuestionAnswering.from_pretrained(model_name)"
   ]
  },
  {
   "cell_type": "code",
   "execution_count": 12,
   "id": "52eb3d7b-22c8-4ee6-b8e1-bcce6e600fdf",
   "metadata": {},
   "outputs": [],
   "source": [
    "# Define training arguments (optimizer, learning rate etc.)\n",
    "training_args = TrainingArguments(\n",
    "    output_dir=\"../models\",  # Replace with your output directory\n",
    "    per_device_train_batch_size=75,\n",
    "    save_steps=500,\n",
    "    num_train_epochs=3,\n",
    "    learning_rate=2e-5,\n",
    ")"
   ]
  },
  {
   "cell_type": "code",
   "execution_count": 13,
   "id": "9421ef4d-a7ef-4a0a-a126-dbe67de18518",
   "metadata": {},
   "outputs": [],
   "source": [
    "def compute_metrics(pred):\n",
    "    \"\"\"Calculates F1 score, ROUGE metrics, and accuracy for Roberta predictions.\n",
    "    \n",
    "    Args:\n",
    "    pred: A dictionary containing the model's predictions (answers) \n",
    "         and ground truth labels (references).\n",
    "    \n",
    "    Returns:\n",
    "    A dictionary containing F1 score, ROUGE metrics (precision, recall, f1),\n",
    "    and accuracy.\n",
    "    \"\"\"\n",
    "    labels = pred.label_ids\n",
    "    preds = pred.predictions.argmax(-1)\n",
    "    \n",
    "    # Load Rouge metric\n",
    "    rouge = load_metric(\"rouge\")\n",
    "    \n",
    "    # Compute Rouge scores\n",
    "    rouge_outputs = rouge.compute(predictions=preds, references=labels, rouge_types=[\"rougeL\"])\n",
    "    rouge_score = rouge_outputs[\"rougeL\"]\n",
    "    \n",
    "    # Compute F1 score (you can use sklearn or other libraries)\n",
    "    from sklearn.metrics import f1_score\n",
    "    f1 = f1_score(labels, preds, average=\"weighted\")\n",
    "    \n",
    "    # Calculate accuracy\n",
    "    accuracy = (labels == preds).mean()  # Calculate proportion of correct predictions\n",
    "    \n",
    "    # Return dictionary with metrics\n",
    "    return {\"f1\": f1, \"rougeL\": rouge_score[\"precision\"], \"rougeL_recall\": rougeL[\"recall\"], \"rougeL_f1\": rougeL[\"f1\"], \"accuracy\": accuracy}"
   ]
  },
  {
   "cell_type": "code",
   "execution_count": 19,
   "id": "1688fc31-1304-4d41-85ad-3e21b3f72301",
   "metadata": {},
   "outputs": [],
   "source": [
    "# Create trainer object\n",
    "accelerator = Accelerator()\n",
    "\n",
    "trainer = Trainer(\n",
    "    model=model,\n",
    "    args=training_args,\n",
    "    train_dataset=test_train_data,\n",
    "    eval_dataset=test_val_data,\n",
    "    compute_metrics=compute_metrics\n",
    ")"
   ]
  },
  {
   "cell_type": "code",
   "execution_count": 20,
   "id": "0ea87718-7323-4b4d-a5c6-e289f4d71d52",
   "metadata": {
    "scrolled": true
   },
   "outputs": [
    {
     "ename": "KeyError",
     "evalue": "2",
     "output_type": "error",
     "traceback": [
      "\u001b[1;31m---------------------------------------------------------------------------\u001b[0m",
      "\u001b[1;31mKeyError\u001b[0m                                  Traceback (most recent call last)",
      "Cell \u001b[1;32mIn[20], line 2\u001b[0m\n\u001b[0;32m      1\u001b[0m \u001b[38;5;66;03m# Start training\u001b[39;00m\n\u001b[1;32m----> 2\u001b[0m trainer\u001b[38;5;241m.\u001b[39mtrain()\n",
      "File \u001b[1;32m~\\AppData\\Local\\anaconda3\\Lib\\site-packages\\transformers\\trainer.py:1859\u001b[0m, in \u001b[0;36mTrainer.train\u001b[1;34m(self, resume_from_checkpoint, trial, ignore_keys_for_eval, **kwargs)\u001b[0m\n\u001b[0;32m   1857\u001b[0m         hf_hub_utils\u001b[38;5;241m.\u001b[39menable_progress_bars()\n\u001b[0;32m   1858\u001b[0m \u001b[38;5;28;01melse\u001b[39;00m:\n\u001b[1;32m-> 1859\u001b[0m     \u001b[38;5;28;01mreturn\u001b[39;00m inner_training_loop(\n\u001b[0;32m   1860\u001b[0m         args\u001b[38;5;241m=\u001b[39margs,\n\u001b[0;32m   1861\u001b[0m         resume_from_checkpoint\u001b[38;5;241m=\u001b[39mresume_from_checkpoint,\n\u001b[0;32m   1862\u001b[0m         trial\u001b[38;5;241m=\u001b[39mtrial,\n\u001b[0;32m   1863\u001b[0m         ignore_keys_for_eval\u001b[38;5;241m=\u001b[39mignore_keys_for_eval,\n\u001b[0;32m   1864\u001b[0m     )\n",
      "File \u001b[1;32m~\\AppData\\Local\\anaconda3\\Lib\\site-packages\\transformers\\trainer.py:2165\u001b[0m, in \u001b[0;36mTrainer._inner_training_loop\u001b[1;34m(self, batch_size, args, resume_from_checkpoint, trial, ignore_keys_for_eval)\u001b[0m\n\u001b[0;32m   2162\u001b[0m     rng_to_sync \u001b[38;5;241m=\u001b[39m \u001b[38;5;28;01mTrue\u001b[39;00m\n\u001b[0;32m   2164\u001b[0m step \u001b[38;5;241m=\u001b[39m \u001b[38;5;241m-\u001b[39m\u001b[38;5;241m1\u001b[39m\n\u001b[1;32m-> 2165\u001b[0m \u001b[38;5;28;01mfor\u001b[39;00m step, inputs \u001b[38;5;129;01min\u001b[39;00m \u001b[38;5;28menumerate\u001b[39m(epoch_iterator):\n\u001b[0;32m   2166\u001b[0m     total_batched_samples \u001b[38;5;241m+\u001b[39m\u001b[38;5;241m=\u001b[39m \u001b[38;5;241m1\u001b[39m\n\u001b[0;32m   2168\u001b[0m     \u001b[38;5;28;01mif\u001b[39;00m \u001b[38;5;28mself\u001b[39m\u001b[38;5;241m.\u001b[39margs\u001b[38;5;241m.\u001b[39minclude_num_input_tokens_seen:\n",
      "File \u001b[1;32m~\\AppData\\Local\\anaconda3\\Lib\\site-packages\\accelerate\\data_loader.py:452\u001b[0m, in \u001b[0;36mDataLoaderShard.__iter__\u001b[1;34m(self)\u001b[0m\n\u001b[0;32m    450\u001b[0m \u001b[38;5;66;03m# We iterate one batch ahead to check when we are at the end\u001b[39;00m\n\u001b[0;32m    451\u001b[0m \u001b[38;5;28;01mtry\u001b[39;00m:\n\u001b[1;32m--> 452\u001b[0m     current_batch \u001b[38;5;241m=\u001b[39m \u001b[38;5;28mnext\u001b[39m(dataloader_iter)\n\u001b[0;32m    453\u001b[0m \u001b[38;5;28;01mexcept\u001b[39;00m \u001b[38;5;167;01mStopIteration\u001b[39;00m:\n\u001b[0;32m    454\u001b[0m     \u001b[38;5;28;01myield\u001b[39;00m\n",
      "File \u001b[1;32m~\\AppData\\Local\\anaconda3\\Lib\\site-packages\\torch\\utils\\data\\dataloader.py:631\u001b[0m, in \u001b[0;36m_BaseDataLoaderIter.__next__\u001b[1;34m(self)\u001b[0m\n\u001b[0;32m    628\u001b[0m \u001b[38;5;28;01mif\u001b[39;00m \u001b[38;5;28mself\u001b[39m\u001b[38;5;241m.\u001b[39m_sampler_iter \u001b[38;5;129;01mis\u001b[39;00m \u001b[38;5;28;01mNone\u001b[39;00m:\n\u001b[0;32m    629\u001b[0m     \u001b[38;5;66;03m# TODO(https://github.com/pytorch/pytorch/issues/76750)\u001b[39;00m\n\u001b[0;32m    630\u001b[0m     \u001b[38;5;28mself\u001b[39m\u001b[38;5;241m.\u001b[39m_reset()  \u001b[38;5;66;03m# type: ignore[call-arg]\u001b[39;00m\n\u001b[1;32m--> 631\u001b[0m data \u001b[38;5;241m=\u001b[39m \u001b[38;5;28mself\u001b[39m\u001b[38;5;241m.\u001b[39m_next_data()\n\u001b[0;32m    632\u001b[0m \u001b[38;5;28mself\u001b[39m\u001b[38;5;241m.\u001b[39m_num_yielded \u001b[38;5;241m+\u001b[39m\u001b[38;5;241m=\u001b[39m \u001b[38;5;241m1\u001b[39m\n\u001b[0;32m    633\u001b[0m \u001b[38;5;28;01mif\u001b[39;00m \u001b[38;5;28mself\u001b[39m\u001b[38;5;241m.\u001b[39m_dataset_kind \u001b[38;5;241m==\u001b[39m _DatasetKind\u001b[38;5;241m.\u001b[39mIterable \u001b[38;5;129;01mand\u001b[39;00m \\\n\u001b[0;32m    634\u001b[0m         \u001b[38;5;28mself\u001b[39m\u001b[38;5;241m.\u001b[39m_IterableDataset_len_called \u001b[38;5;129;01mis\u001b[39;00m \u001b[38;5;129;01mnot\u001b[39;00m \u001b[38;5;28;01mNone\u001b[39;00m \u001b[38;5;129;01mand\u001b[39;00m \\\n\u001b[0;32m    635\u001b[0m         \u001b[38;5;28mself\u001b[39m\u001b[38;5;241m.\u001b[39m_num_yielded \u001b[38;5;241m>\u001b[39m \u001b[38;5;28mself\u001b[39m\u001b[38;5;241m.\u001b[39m_IterableDataset_len_called:\n",
      "File \u001b[1;32m~\\AppData\\Local\\anaconda3\\Lib\\site-packages\\torch\\utils\\data\\dataloader.py:675\u001b[0m, in \u001b[0;36m_SingleProcessDataLoaderIter._next_data\u001b[1;34m(self)\u001b[0m\n\u001b[0;32m    673\u001b[0m \u001b[38;5;28;01mdef\u001b[39;00m \u001b[38;5;21m_next_data\u001b[39m(\u001b[38;5;28mself\u001b[39m):\n\u001b[0;32m    674\u001b[0m     index \u001b[38;5;241m=\u001b[39m \u001b[38;5;28mself\u001b[39m\u001b[38;5;241m.\u001b[39m_next_index()  \u001b[38;5;66;03m# may raise StopIteration\u001b[39;00m\n\u001b[1;32m--> 675\u001b[0m     data \u001b[38;5;241m=\u001b[39m \u001b[38;5;28mself\u001b[39m\u001b[38;5;241m.\u001b[39m_dataset_fetcher\u001b[38;5;241m.\u001b[39mfetch(index)  \u001b[38;5;66;03m# may raise StopIteration\u001b[39;00m\n\u001b[0;32m    676\u001b[0m     \u001b[38;5;28;01mif\u001b[39;00m \u001b[38;5;28mself\u001b[39m\u001b[38;5;241m.\u001b[39m_pin_memory:\n\u001b[0;32m    677\u001b[0m         data \u001b[38;5;241m=\u001b[39m _utils\u001b[38;5;241m.\u001b[39mpin_memory\u001b[38;5;241m.\u001b[39mpin_memory(data, \u001b[38;5;28mself\u001b[39m\u001b[38;5;241m.\u001b[39m_pin_memory_device)\n",
      "File \u001b[1;32m~\\AppData\\Local\\anaconda3\\Lib\\site-packages\\torch\\utils\\data\\_utils\\fetch.py:51\u001b[0m, in \u001b[0;36m_MapDatasetFetcher.fetch\u001b[1;34m(self, possibly_batched_index)\u001b[0m\n\u001b[0;32m     49\u001b[0m         data \u001b[38;5;241m=\u001b[39m \u001b[38;5;28mself\u001b[39m\u001b[38;5;241m.\u001b[39mdataset\u001b[38;5;241m.\u001b[39m__getitems__(possibly_batched_index)\n\u001b[0;32m     50\u001b[0m     \u001b[38;5;28;01melse\u001b[39;00m:\n\u001b[1;32m---> 51\u001b[0m         data \u001b[38;5;241m=\u001b[39m [\u001b[38;5;28mself\u001b[39m\u001b[38;5;241m.\u001b[39mdataset[idx] \u001b[38;5;28;01mfor\u001b[39;00m idx \u001b[38;5;129;01min\u001b[39;00m possibly_batched_index]\n\u001b[0;32m     52\u001b[0m \u001b[38;5;28;01melse\u001b[39;00m:\n\u001b[0;32m     53\u001b[0m     data \u001b[38;5;241m=\u001b[39m \u001b[38;5;28mself\u001b[39m\u001b[38;5;241m.\u001b[39mdataset[possibly_batched_index]\n",
      "File \u001b[1;32m~\\AppData\\Local\\anaconda3\\Lib\\site-packages\\torch\\utils\\data\\_utils\\fetch.py:51\u001b[0m, in \u001b[0;36m<listcomp>\u001b[1;34m(.0)\u001b[0m\n\u001b[0;32m     49\u001b[0m         data \u001b[38;5;241m=\u001b[39m \u001b[38;5;28mself\u001b[39m\u001b[38;5;241m.\u001b[39mdataset\u001b[38;5;241m.\u001b[39m__getitems__(possibly_batched_index)\n\u001b[0;32m     50\u001b[0m     \u001b[38;5;28;01melse\u001b[39;00m:\n\u001b[1;32m---> 51\u001b[0m         data \u001b[38;5;241m=\u001b[39m [\u001b[38;5;28mself\u001b[39m\u001b[38;5;241m.\u001b[39mdataset[idx] \u001b[38;5;28;01mfor\u001b[39;00m idx \u001b[38;5;129;01min\u001b[39;00m possibly_batched_index]\n\u001b[0;32m     52\u001b[0m \u001b[38;5;28;01melse\u001b[39;00m:\n\u001b[0;32m     53\u001b[0m     data \u001b[38;5;241m=\u001b[39m \u001b[38;5;28mself\u001b[39m\u001b[38;5;241m.\u001b[39mdataset[possibly_batched_index]\n",
      "\u001b[1;31mKeyError\u001b[0m: 2"
     ]
    }
   ],
   "source": [
    "# Start training\n",
    "trainer.train()"
   ]
  },
  {
   "cell_type": "code",
   "execution_count": null,
   "id": "39926166-4abd-4a57-9153-a1eaf67f5663",
   "metadata": {},
   "outputs": [],
   "source": [
    "# Save the fine-tuned model\n",
    "model.save_pretrained(\"../models/fine-tuned-roberta\")"
   ]
  },
  {
   "cell_type": "code",
   "execution_count": null,
   "id": "9b7f578f-6e77-4a78-b9f1-a4a9510b5313",
   "metadata": {},
   "outputs": [],
   "source": [
    "def predict(context, question, tokenizer, model):\n",
    "    \"\"\"Uses the fine-tuned model to predict the answer based on context and question.\n",
    "    \n",
    "    Args:\n",
    "      context: The passage or document containing relevant information.\n",
    "      question: The question to be answered.\n",
    "      tokenizer: The tokenizer used to process text into model inputs.\n",
    "      model: The fine-tuned question answering model.\n",
    "    \n",
    "    Returns:\n",
    "      answer: The predicted answer string from the context.\n",
    "    \"\"\"\n",
    "    \n",
    "    # Preprocess context and question (replace with your model's specific requirements)\n",
    "    inputs = tokenizer(context, question, return_tensors=\"pt\")  # Example using PyTorch tensors\n",
    "    \n",
    "    # Make predictions using your model (replace with your model's forward pass logic)\n",
    "    with torch.no_grad():  # Disable gradient calculation for efficiency\n",
    "        outputs = model(**inputs)\n",
    "        start_scores, end_scores = outputs.start_logits, outputs.end_logits\n",
    "    \n",
    "    # Extract predicted answer based on start and end scores\n",
    "    answer_start = torch.argmax(start_scores)\n",
    "    answer_end = torch.argmax(end_scores) + 1  # Account for inclusive end index\n",
    "    answer = tokenizer.convert_tokens_to_strings(tokenizer.convert_ids_to_tokens(inputs[\"input_ids\"][0][answer_start:answer_end]))[0]\n",
    "    \n",
    "    return answer"
   ]
  },
  {
   "cell_type": "code",
   "execution_count": null,
   "id": "fbb9fdf8-f747-4a40-97c3-0fd8c35ace4e",
   "metadata": {},
   "outputs": [],
   "source": [
    "# Test\n",
    "context = \"This is a sample context for question answering.\"\n",
    "question = \"What is the context about?\"\n",
    "answer = predict(context, question)\n",
    "print(f\"Predicted Answer: {answer}\")"
   ]
  }
 ],
 "metadata": {
  "kernelspec": {
   "display_name": "Python 3 (ipykernel)",
   "language": "python",
   "name": "python3"
  },
  "language_info": {
   "codemirror_mode": {
    "name": "ipython",
    "version": 3
   },
   "file_extension": ".py",
   "mimetype": "text/x-python",
   "name": "python",
   "nbconvert_exporter": "python",
   "pygments_lexer": "ipython3",
   "version": "3.11.7"
  }
 },
 "nbformat": 4,
 "nbformat_minor": 5
}
